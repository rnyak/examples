{
 "cells": [
  {
   "cell_type": "markdown",
   "metadata": {
    "toc": true
   },
   "source": [
    "<h1>Table of Contents<span class=\"tocSkip\"></span></h1>\n",
    "<div class=\"toc\"><ul class=\"toc-item\"><li><span><a href=\"#Import-data\" data-toc-modified-id=\"Import-data-1\"><span class=\"toc-item-num\">1&nbsp;&nbsp;</span>Import data</a></span></li><li><span><a href=\"#EDA\" data-toc-modified-id=\"EDA-2\"><span class=\"toc-item-num\">2&nbsp;&nbsp;</span>EDA</a></span><ul class=\"toc-item\"><li><span><a href=\"#Do-later\" data-toc-modified-id=\"Do-later-2.1\"><span class=\"toc-item-num\">2.1&nbsp;&nbsp;</span>Do later</a></span></li></ul></li><li><span><a href=\"#Model-architecture¶\" data-toc-modified-id=\"Model-architecture¶-3\"><span class=\"toc-item-num\">3&nbsp;&nbsp;</span>Model architecture¶</a></span></li></ul></div>"
   ]
  },
  {
   "cell_type": "markdown",
   "metadata": {},
   "source": [
    "# Import data"
   ]
  },
  {
   "cell_type": "code",
   "execution_count": 112,
   "metadata": {},
   "outputs": [],
   "source": [
    "# credit: https://github.com/amirrezaeian/Individual-household-electric-power-consumption-Data-Set-/blob/master/data_e_power.ipynb"
   ]
  },
  {
   "cell_type": "code",
   "execution_count": 86,
   "metadata": {},
   "outputs": [],
   "source": [
    "import numpy as np # linear algebra\n",
    "from scipy.stats import randint\n",
    "import matplotlib.pyplot as plt\n",
    "import math\n",
    "import tensorflow as tf\n",
    "from tensorflow.python.keras.layers import Input, Dense\n",
    "from tensorflow.keras.layers import LSTM\n",
    "from sklearn.preprocessing import MinMaxScaler\n",
    "from sklearn.metrics import mean_squared_error\n",
    "import pandas as pd"
   ]
  },
  {
   "cell_type": "code",
   "execution_count": 87,
   "metadata": {},
   "outputs": [],
   "source": [
    "## for Deep-learing:\n",
    "import keras\n",
    "from keras.layers import Dense\n",
    "from keras.models import Sequential\n",
    "from keras.utils import to_categorical\n",
    "from keras.optimizers import SGD \n",
    "from keras.callbacks import EarlyStopping\n",
    "from keras.utils import np_utils\n",
    "import itertools\n",
    "from keras.layers import LSTM\n",
    "from keras.layers.convolutional import Conv1D\n",
    "from keras.layers.convolutional import MaxPooling1D\n",
    "from keras.layers import Dropout"
   ]
  },
  {
   "cell_type": "code",
   "execution_count": 88,
   "metadata": {},
   "outputs": [],
   "source": [
    "# convert an array of values into a dataset matrix\n",
    "def create_dataset(dataset, look_back=1):\n",
    "\tdataX, dataY = [], []\n",
    "\tfor i in range(len(dataset)-look_back-1):\n",
    "\t\ta = dataset[i:(i+look_back), 0]\n",
    "\t\tdataX.append(a)\n",
    "\t\tdataY.append(dataset[i + look_back, 0])\n",
    "\treturn numpy.array(dataX), numpy.array(dataY)"
   ]
  },
  {
   "cell_type": "code",
   "execution_count": 89,
   "metadata": {},
   "outputs": [],
   "source": [
    "# fix random seed for reproducibility\n",
    "numpy.random.seed(7)"
   ]
  },
  {
   "cell_type": "code",
   "execution_count": 90,
   "metadata": {},
   "outputs": [
    {
     "data": {
      "text/plain": [
       "Index(['dt', 'Global_active_power', 'Global_reactive_power', 'Voltage',\n",
       "       'Global_intensity', 'Sub_metering_1', 'Sub_metering_2',\n",
       "       'Sub_metering_3'],\n",
       "      dtype='object')"
      ]
     },
     "execution_count": 90,
     "metadata": {},
     "output_type": "execute_result"
    }
   ],
   "source": [
    "df_org=pd.read_csv('household_power_consumption.txt', sep=';', \n",
    "                 parse_dates={'dt' : ['Date', 'Time']}, infer_datetime_format=True, \n",
    "                 low_memory=False, na_values=['nan','?'])\n",
    "df_org.columns"
   ]
  },
  {
   "cell_type": "code",
   "execution_count": 91,
   "metadata": {},
   "outputs": [],
   "source": [
    "# load the dataset\n",
    "## Data can be downloaded from: http://archive.ics.uci.edu/ml/machine-learning-databases/00235/\n",
    "## Just open the zip file and grab the file 'household_power_consumption.txt' put it in the directory \n",
    "## that you would like to run the code. \n",
    "\n",
    "df = pd.read_csv('household_power_consumption.txt', sep=';', \n",
    "                 parse_dates={'dt' : ['Date', 'Time']}, infer_datetime_format=True, \n",
    "                 low_memory=False, na_values=['nan','?'], index_col='dt')"
   ]
  },
  {
   "cell_type": "code",
   "execution_count": 92,
   "metadata": {},
   "outputs": [
    {
     "data": {
      "text/plain": [
       "Index(['Global_active_power', 'Global_reactive_power', 'Voltage',\n",
       "       'Global_intensity', 'Sub_metering_1', 'Sub_metering_2',\n",
       "       'Sub_metering_3'],\n",
       "      dtype='object')"
      ]
     },
     "execution_count": 92,
     "metadata": {},
     "output_type": "execute_result"
    }
   ],
   "source": [
    "df.columns"
   ]
  },
  {
   "cell_type": "code",
   "execution_count": 93,
   "metadata": {},
   "outputs": [
    {
     "data": {
      "text/html": [
       "<div>\n",
       "<style scoped>\n",
       "    .dataframe tbody tr th:only-of-type {\n",
       "        vertical-align: middle;\n",
       "    }\n",
       "\n",
       "    .dataframe tbody tr th {\n",
       "        vertical-align: top;\n",
       "    }\n",
       "\n",
       "    .dataframe thead th {\n",
       "        text-align: right;\n",
       "    }\n",
       "</style>\n",
       "<table border=\"1\" class=\"dataframe\">\n",
       "  <thead>\n",
       "    <tr style=\"text-align: right;\">\n",
       "      <th></th>\n",
       "      <th>Global_active_power</th>\n",
       "      <th>Global_reactive_power</th>\n",
       "      <th>Voltage</th>\n",
       "      <th>Global_intensity</th>\n",
       "      <th>Sub_metering_1</th>\n",
       "      <th>Sub_metering_2</th>\n",
       "      <th>Sub_metering_3</th>\n",
       "    </tr>\n",
       "    <tr>\n",
       "      <th>dt</th>\n",
       "      <th></th>\n",
       "      <th></th>\n",
       "      <th></th>\n",
       "      <th></th>\n",
       "      <th></th>\n",
       "      <th></th>\n",
       "      <th></th>\n",
       "    </tr>\n",
       "  </thead>\n",
       "  <tbody>\n",
       "    <tr>\n",
       "      <th>2006-12-16 17:24:00</th>\n",
       "      <td>4.216</td>\n",
       "      <td>0.418</td>\n",
       "      <td>234.84</td>\n",
       "      <td>18.4</td>\n",
       "      <td>0.0</td>\n",
       "      <td>1.0</td>\n",
       "      <td>17.0</td>\n",
       "    </tr>\n",
       "    <tr>\n",
       "      <th>2006-12-16 17:25:00</th>\n",
       "      <td>5.360</td>\n",
       "      <td>0.436</td>\n",
       "      <td>233.63</td>\n",
       "      <td>23.0</td>\n",
       "      <td>0.0</td>\n",
       "      <td>1.0</td>\n",
       "      <td>16.0</td>\n",
       "    </tr>\n",
       "    <tr>\n",
       "      <th>2006-12-16 17:26:00</th>\n",
       "      <td>5.374</td>\n",
       "      <td>0.498</td>\n",
       "      <td>233.29</td>\n",
       "      <td>23.0</td>\n",
       "      <td>0.0</td>\n",
       "      <td>2.0</td>\n",
       "      <td>17.0</td>\n",
       "    </tr>\n",
       "    <tr>\n",
       "      <th>2006-12-16 17:27:00</th>\n",
       "      <td>5.388</td>\n",
       "      <td>0.502</td>\n",
       "      <td>233.74</td>\n",
       "      <td>23.0</td>\n",
       "      <td>0.0</td>\n",
       "      <td>1.0</td>\n",
       "      <td>17.0</td>\n",
       "    </tr>\n",
       "    <tr>\n",
       "      <th>2006-12-16 17:28:00</th>\n",
       "      <td>3.666</td>\n",
       "      <td>0.528</td>\n",
       "      <td>235.68</td>\n",
       "      <td>15.8</td>\n",
       "      <td>0.0</td>\n",
       "      <td>1.0</td>\n",
       "      <td>17.0</td>\n",
       "    </tr>\n",
       "  </tbody>\n",
       "</table>\n",
       "</div>"
      ],
      "text/plain": [
       "                     Global_active_power  Global_reactive_power  Voltage  \\\n",
       "dt                                                                         \n",
       "2006-12-16 17:24:00                4.216                  0.418   234.84   \n",
       "2006-12-16 17:25:00                5.360                  0.436   233.63   \n",
       "2006-12-16 17:26:00                5.374                  0.498   233.29   \n",
       "2006-12-16 17:27:00                5.388                  0.502   233.74   \n",
       "2006-12-16 17:28:00                3.666                  0.528   235.68   \n",
       "\n",
       "                     Global_intensity  Sub_metering_1  Sub_metering_2  \\\n",
       "dt                                                                      \n",
       "2006-12-16 17:24:00              18.4             0.0             1.0   \n",
       "2006-12-16 17:25:00              23.0             0.0             1.0   \n",
       "2006-12-16 17:26:00              23.0             0.0             2.0   \n",
       "2006-12-16 17:27:00              23.0             0.0             1.0   \n",
       "2006-12-16 17:28:00              15.8             0.0             1.0   \n",
       "\n",
       "                     Sub_metering_3  \n",
       "dt                                   \n",
       "2006-12-16 17:24:00            17.0  \n",
       "2006-12-16 17:25:00            16.0  \n",
       "2006-12-16 17:26:00            17.0  \n",
       "2006-12-16 17:27:00            17.0  \n",
       "2006-12-16 17:28:00            17.0  "
      ]
     },
     "execution_count": 93,
     "metadata": {},
     "output_type": "execute_result"
    }
   ],
   "source": [
    "df.head(5)"
   ]
  },
  {
   "cell_type": "code",
   "execution_count": 94,
   "metadata": {},
   "outputs": [
    {
     "data": {
      "text/plain": [
       "(2075259, 7)"
      ]
     },
     "execution_count": 94,
     "metadata": {},
     "output_type": "execute_result"
    }
   ],
   "source": [
    "df.shape"
   ]
  },
  {
   "cell_type": "code",
   "execution_count": 95,
   "metadata": {},
   "outputs": [
    {
     "name": "stdout",
     "output_type": "stream",
     "text": [
      "<class 'pandas.core.frame.DataFrame'>\n",
      "DatetimeIndex: 2075259 entries, 2006-12-16 17:24:00 to 2010-11-26 21:02:00\n",
      "Data columns (total 7 columns):\n",
      "Global_active_power      float64\n",
      "Global_reactive_power    float64\n",
      "Voltage                  float64\n",
      "Global_intensity         float64\n",
      "Sub_metering_1           float64\n",
      "Sub_metering_2           float64\n",
      "Sub_metering_3           float64\n",
      "dtypes: float64(7)\n",
      "memory usage: 126.7 MB\n"
     ]
    }
   ],
   "source": [
    "df.info()"
   ]
  },
  {
   "cell_type": "code",
   "execution_count": 96,
   "metadata": {},
   "outputs": [
    {
     "data": {
      "text/plain": [
       "Global_active_power      float64\n",
       "Global_reactive_power    float64\n",
       "Voltage                  float64\n",
       "Global_intensity         float64\n",
       "Sub_metering_1           float64\n",
       "Sub_metering_2           float64\n",
       "Sub_metering_3           float64\n",
       "dtype: object"
      ]
     },
     "execution_count": 96,
     "metadata": {},
     "output_type": "execute_result"
    }
   ],
   "source": [
    "df.dtypes"
   ]
  },
  {
   "cell_type": "code",
   "execution_count": 97,
   "metadata": {},
   "outputs": [],
   "source": [
    "# filling nan with mean in any columns\n",
    "\n",
    "for j in range(0,7):        \n",
    "        df.iloc[:,j]=df.iloc[:,j].fillna(df.iloc[:,j].mean())"
   ]
  },
  {
   "cell_type": "code",
   "execution_count": 98,
   "metadata": {},
   "outputs": [
    {
     "data": {
      "text/plain": [
       "Global_active_power      0\n",
       "Global_reactive_power    0\n",
       "Voltage                  0\n",
       "Global_intensity         0\n",
       "Sub_metering_1           0\n",
       "Sub_metering_2           0\n",
       "Sub_metering_3           0\n",
       "dtype: int64"
      ]
     },
     "execution_count": 98,
     "metadata": {},
     "output_type": "execute_result"
    }
   ],
   "source": [
    "# check to make sure that there are not any more nan\n",
    "df.isnull().sum()"
   ]
  },
  {
   "cell_type": "markdown",
   "metadata": {},
   "source": [
    "# EDA"
   ]
  },
  {
   "cell_type": "markdown",
   "metadata": {},
   "source": [
    "## Do later"
   ]
  },
  {
   "cell_type": "code",
   "execution_count": 99,
   "metadata": {},
   "outputs": [],
   "source": [
    "def series_to_supervised(data, n_in=1, n_out=1, dropnan=True):\n",
    "\tn_vars = 1 if type(data) is list else data.shape[1]\n",
    "\tdff = pd.DataFrame(data)\n",
    "\tcols, names = list(), list()\n",
    "\t# input sequence (t-n, ... t-1)\n",
    "\tfor i in range(n_in, 0, -1):\n",
    "\t\tcols.append(dff.shift(i))\n",
    "\t\tnames += [('var%d(t-%d)' % (j+1, i)) for j in range(n_vars)]\n",
    "\t# forecast sequence (t, t+1, ... t+n)\n",
    "\tfor i in range(0, n_out):\n",
    "\t\tcols.append(dff.shift(-i))\n",
    "\t\tif i == 0:\n",
    "\t\t\tnames += [('var%d(t)' % (j+1)) for j in range(n_vars)]\n",
    "\t\telse:\n",
    "\t\t\tnames += [('var%d(t+%d)' % (j+1, i)) for j in range(n_vars)]\n",
    "\t# put it all together\n",
    "\tagg = pd.concat(cols, axis=1)\n",
    "\tagg.columns = names\n",
    "\t# drop rows with NaN values\n",
    "\tif dropnan:\n",
    "\t\tagg.dropna(inplace=True)\n",
    "\treturn agg"
   ]
  },
  {
   "cell_type": "code",
   "execution_count": 100,
   "metadata": {},
   "outputs": [
    {
     "data": {
      "text/plain": [
       "(34589, 7)"
      ]
     },
     "execution_count": 100,
     "metadata": {},
     "output_type": "execute_result"
    }
   ],
   "source": [
    "## resampling of data over hour\n",
    "df_resample = df.resample('h').mean() \n",
    "df_resample.shape"
   ]
  },
  {
   "cell_type": "code",
   "execution_count": 101,
   "metadata": {},
   "outputs": [],
   "source": [
    "#scale all features in range of [0,1]\n",
    "values = df_resample.values \n",
    "\n",
    "## full data without resampling\n",
    "#values = df.values\n",
    "\n",
    "# integer encode direction\n",
    "# ensure all data is float\n",
    "#values = values.astype('float32')\n",
    "# normalize features\n",
    "scaler = MinMaxScaler(feature_range=(0, 1))\n",
    "scaled = scaler.fit_transform(values)\n",
    "# frame as supervised learning\n",
    "reframed = series_to_supervised(scaled, 1, 1)"
   ]
  },
  {
   "cell_type": "code",
   "execution_count": 102,
   "metadata": {},
   "outputs": [
    {
     "data": {
      "text/html": [
       "<div>\n",
       "<style scoped>\n",
       "    .dataframe tbody tr th:only-of-type {\n",
       "        vertical-align: middle;\n",
       "    }\n",
       "\n",
       "    .dataframe tbody tr th {\n",
       "        vertical-align: top;\n",
       "    }\n",
       "\n",
       "    .dataframe thead th {\n",
       "        text-align: right;\n",
       "    }\n",
       "</style>\n",
       "<table border=\"1\" class=\"dataframe\">\n",
       "  <thead>\n",
       "    <tr style=\"text-align: right;\">\n",
       "      <th></th>\n",
       "      <th>var1(t-1)</th>\n",
       "      <th>var2(t-1)</th>\n",
       "      <th>var3(t-1)</th>\n",
       "      <th>var4(t-1)</th>\n",
       "      <th>var5(t-1)</th>\n",
       "      <th>var6(t-1)</th>\n",
       "      <th>var7(t-1)</th>\n",
       "      <th>var1(t)</th>\n",
       "      <th>var2(t)</th>\n",
       "      <th>var3(t)</th>\n",
       "      <th>var4(t)</th>\n",
       "      <th>var5(t)</th>\n",
       "      <th>var6(t)</th>\n",
       "      <th>var7(t)</th>\n",
       "    </tr>\n",
       "  </thead>\n",
       "  <tbody>\n",
       "    <tr>\n",
       "      <th>1</th>\n",
       "      <td>0.636816</td>\n",
       "      <td>0.295738</td>\n",
       "      <td>0.337945</td>\n",
       "      <td>0.631157</td>\n",
       "      <td>0.0</td>\n",
       "      <td>0.011366</td>\n",
       "      <td>0.782418</td>\n",
       "      <td>0.545045</td>\n",
       "      <td>0.103358</td>\n",
       "      <td>0.335501</td>\n",
       "      <td>0.541487</td>\n",
       "      <td>0.0</td>\n",
       "      <td>0.144652</td>\n",
       "      <td>0.782676</td>\n",
       "    </tr>\n",
       "    <tr>\n",
       "      <th>2</th>\n",
       "      <td>0.545045</td>\n",
       "      <td>0.103358</td>\n",
       "      <td>0.335501</td>\n",
       "      <td>0.541487</td>\n",
       "      <td>0.0</td>\n",
       "      <td>0.144652</td>\n",
       "      <td>0.782676</td>\n",
       "      <td>0.509006</td>\n",
       "      <td>0.110073</td>\n",
       "      <td>0.283802</td>\n",
       "      <td>0.502152</td>\n",
       "      <td>0.0</td>\n",
       "      <td>0.030869</td>\n",
       "      <td>0.774169</td>\n",
       "    </tr>\n",
       "    <tr>\n",
       "      <th>3</th>\n",
       "      <td>0.509006</td>\n",
       "      <td>0.110073</td>\n",
       "      <td>0.283802</td>\n",
       "      <td>0.502152</td>\n",
       "      <td>0.0</td>\n",
       "      <td>0.030869</td>\n",
       "      <td>0.774169</td>\n",
       "      <td>0.488550</td>\n",
       "      <td>0.096987</td>\n",
       "      <td>0.315987</td>\n",
       "      <td>0.481110</td>\n",
       "      <td>0.0</td>\n",
       "      <td>0.000000</td>\n",
       "      <td>0.778809</td>\n",
       "    </tr>\n",
       "    <tr>\n",
       "      <th>4</th>\n",
       "      <td>0.488550</td>\n",
       "      <td>0.096987</td>\n",
       "      <td>0.315987</td>\n",
       "      <td>0.481110</td>\n",
       "      <td>0.0</td>\n",
       "      <td>0.000000</td>\n",
       "      <td>0.778809</td>\n",
       "      <td>0.455597</td>\n",
       "      <td>0.099010</td>\n",
       "      <td>0.434417</td>\n",
       "      <td>0.449904</td>\n",
       "      <td>0.0</td>\n",
       "      <td>0.008973</td>\n",
       "      <td>0.798917</td>\n",
       "    </tr>\n",
       "    <tr>\n",
       "      <th>5</th>\n",
       "      <td>0.455597</td>\n",
       "      <td>0.099010</td>\n",
       "      <td>0.434417</td>\n",
       "      <td>0.449904</td>\n",
       "      <td>0.0</td>\n",
       "      <td>0.008973</td>\n",
       "      <td>0.798917</td>\n",
       "      <td>0.322555</td>\n",
       "      <td>0.072536</td>\n",
       "      <td>0.495847</td>\n",
       "      <td>0.323529</td>\n",
       "      <td>0.0</td>\n",
       "      <td>0.002872</td>\n",
       "      <td>0.205723</td>\n",
       "    </tr>\n",
       "  </tbody>\n",
       "</table>\n",
       "</div>"
      ],
      "text/plain": [
       "   var1(t-1)  var2(t-1)  var3(t-1)  var4(t-1)  var5(t-1)  var6(t-1)  \\\n",
       "1   0.636816   0.295738   0.337945   0.631157        0.0   0.011366   \n",
       "2   0.545045   0.103358   0.335501   0.541487        0.0   0.144652   \n",
       "3   0.509006   0.110073   0.283802   0.502152        0.0   0.030869   \n",
       "4   0.488550   0.096987   0.315987   0.481110        0.0   0.000000   \n",
       "5   0.455597   0.099010   0.434417   0.449904        0.0   0.008973   \n",
       "\n",
       "   var7(t-1)   var1(t)   var2(t)   var3(t)   var4(t)  var5(t)   var6(t)  \\\n",
       "1   0.782418  0.545045  0.103358  0.335501  0.541487      0.0  0.144652   \n",
       "2   0.782676  0.509006  0.110073  0.283802  0.502152      0.0  0.030869   \n",
       "3   0.774169  0.488550  0.096987  0.315987  0.481110      0.0  0.000000   \n",
       "4   0.778809  0.455597  0.099010  0.434417  0.449904      0.0  0.008973   \n",
       "5   0.798917  0.322555  0.072536  0.495847  0.323529      0.0  0.002872   \n",
       "\n",
       "    var7(t)  \n",
       "1  0.782676  \n",
       "2  0.774169  \n",
       "3  0.778809  \n",
       "4  0.798917  \n",
       "5  0.205723  "
      ]
     },
     "execution_count": 102,
     "metadata": {},
     "output_type": "execute_result"
    }
   ],
   "source": [
    "reframed.head(5)"
   ]
  },
  {
   "cell_type": "code",
   "execution_count": 103,
   "metadata": {},
   "outputs": [],
   "source": [
    "# drop columns we don't want to predict\n",
    "reframed.drop(reframed.columns[[8,9,10,11,12,13]], axis=1, inplace=True)\n"
   ]
  },
  {
   "cell_type": "code",
   "execution_count": 104,
   "metadata": {},
   "outputs": [
    {
     "data": {
      "text/html": [
       "<div>\n",
       "<style scoped>\n",
       "    .dataframe tbody tr th:only-of-type {\n",
       "        vertical-align: middle;\n",
       "    }\n",
       "\n",
       "    .dataframe tbody tr th {\n",
       "        vertical-align: top;\n",
       "    }\n",
       "\n",
       "    .dataframe thead th {\n",
       "        text-align: right;\n",
       "    }\n",
       "</style>\n",
       "<table border=\"1\" class=\"dataframe\">\n",
       "  <thead>\n",
       "    <tr style=\"text-align: right;\">\n",
       "      <th></th>\n",
       "      <th>var1(t-1)</th>\n",
       "      <th>var2(t-1)</th>\n",
       "      <th>var3(t-1)</th>\n",
       "      <th>var4(t-1)</th>\n",
       "      <th>var5(t-1)</th>\n",
       "      <th>var6(t-1)</th>\n",
       "      <th>var7(t-1)</th>\n",
       "      <th>var1(t)</th>\n",
       "    </tr>\n",
       "  </thead>\n",
       "  <tbody>\n",
       "    <tr>\n",
       "      <th>1</th>\n",
       "      <td>0.636816</td>\n",
       "      <td>0.295738</td>\n",
       "      <td>0.337945</td>\n",
       "      <td>0.631157</td>\n",
       "      <td>0.0</td>\n",
       "      <td>0.011366</td>\n",
       "      <td>0.782418</td>\n",
       "      <td>0.545045</td>\n",
       "    </tr>\n",
       "    <tr>\n",
       "      <th>2</th>\n",
       "      <td>0.545045</td>\n",
       "      <td>0.103358</td>\n",
       "      <td>0.335501</td>\n",
       "      <td>0.541487</td>\n",
       "      <td>0.0</td>\n",
       "      <td>0.144652</td>\n",
       "      <td>0.782676</td>\n",
       "      <td>0.509006</td>\n",
       "    </tr>\n",
       "    <tr>\n",
       "      <th>3</th>\n",
       "      <td>0.509006</td>\n",
       "      <td>0.110073</td>\n",
       "      <td>0.283802</td>\n",
       "      <td>0.502152</td>\n",
       "      <td>0.0</td>\n",
       "      <td>0.030869</td>\n",
       "      <td>0.774169</td>\n",
       "      <td>0.488550</td>\n",
       "    </tr>\n",
       "    <tr>\n",
       "      <th>4</th>\n",
       "      <td>0.488550</td>\n",
       "      <td>0.096987</td>\n",
       "      <td>0.315987</td>\n",
       "      <td>0.481110</td>\n",
       "      <td>0.0</td>\n",
       "      <td>0.000000</td>\n",
       "      <td>0.778809</td>\n",
       "      <td>0.455597</td>\n",
       "    </tr>\n",
       "    <tr>\n",
       "      <th>5</th>\n",
       "      <td>0.455597</td>\n",
       "      <td>0.099010</td>\n",
       "      <td>0.434417</td>\n",
       "      <td>0.449904</td>\n",
       "      <td>0.0</td>\n",
       "      <td>0.008973</td>\n",
       "      <td>0.798917</td>\n",
       "      <td>0.322555</td>\n",
       "    </tr>\n",
       "  </tbody>\n",
       "</table>\n",
       "</div>"
      ],
      "text/plain": [
       "   var1(t-1)  var2(t-1)  var3(t-1)  var4(t-1)  var5(t-1)  var6(t-1)  \\\n",
       "1   0.636816   0.295738   0.337945   0.631157        0.0   0.011366   \n",
       "2   0.545045   0.103358   0.335501   0.541487        0.0   0.144652   \n",
       "3   0.509006   0.110073   0.283802   0.502152        0.0   0.030869   \n",
       "4   0.488550   0.096987   0.315987   0.481110        0.0   0.000000   \n",
       "5   0.455597   0.099010   0.434417   0.449904        0.0   0.008973   \n",
       "\n",
       "   var7(t-1)   var1(t)  \n",
       "1   0.782418  0.545045  \n",
       "2   0.782676  0.509006  \n",
       "3   0.774169  0.488550  \n",
       "4   0.778809  0.455597  \n",
       "5   0.798917  0.322555  "
      ]
     },
     "execution_count": 104,
     "metadata": {},
     "output_type": "execute_result"
    }
   ],
   "source": [
    "reframed.head(5)"
   ]
  },
  {
   "cell_type": "code",
   "execution_count": 105,
   "metadata": {},
   "outputs": [
    {
     "name": "stdout",
     "output_type": "stream",
     "text": [
      "(8760, 1, 7) (8760,) (25828, 1, 7) (25828,)\n"
     ]
    }
   ],
   "source": [
    "# split into train and test sets\n",
    "values = reframed.values\n",
    "\n",
    "n_train_time = 365*24\n",
    "train = values[:n_train_time, :]\n",
    "test = values[n_train_time:, :]\n",
    "##test = values[n_train_time:n_test_time, :]\n",
    "# split into input and outputs\n",
    "train_X, train_y = train[:, :-1], train[:, -1]\n",
    "test_X, test_y = test[:, :-1], test[:, -1]\n",
    "# reshape input to be 3D [samples, timesteps, features]\n",
    "train_X = train_X.reshape((train_X.shape[0], 1, train_X.shape[1]))\n",
    "test_X = test_X.reshape((test_X.shape[0], 1, test_X.shape[1]))\n",
    "print(train_X.shape, train_y.shape, test_X.shape, test_y.shape) \n",
    "# We reshaped the input into the 3D format as expected by LSTMs, namely [samples, timesteps, features]."
   ]
  },
  {
   "cell_type": "markdown",
   "metadata": {},
   "source": [
    "# Model architecture¶"
   ]
  },
  {
   "cell_type": "code",
   "execution_count": 106,
   "metadata": {},
   "outputs": [],
   "source": [
    "#1) LSTM with 100 neurons in the first visible layer\n",
    "#3) dropout 20%\n",
    "#4) 1 neuron in the output layer for predicting Global_active_power.\n",
    "#5) The input shape will be 1 time step with 7 features.\n",
    "#6) Mean Absolute Error (MAE) loss function and the efficient Adam version of stochastic gradient descent.\n",
    "#7) The model will be fit for 20 training epochs with a batch size of 70."
   ]
  },
  {
   "cell_type": "code",
   "execution_count": 107,
   "metadata": {},
   "outputs": [
    {
     "data": {
      "text/plain": [
       "((8760, 1, 7),)"
      ]
     },
     "execution_count": 107,
     "metadata": {},
     "output_type": "execute_result"
    }
   ],
   "source": [
    "train_X.shape"
   ]
  },
  {
   "cell_type": "code",
   "execution_count": 108,
   "metadata": {},
   "outputs": [],
   "source": [
    "model = Sequential()\n",
    "model.add(LSTM(100, input_shape=(train_X.shape[1], train_X.shape[2])))\n",
    "model.add(Dropout(0.2))\n",
    "#    model.add(LSTM(70))\n",
    "#    model.add(Dropout(0.3))\n",
    "model.add(Dense(1))\n",
    "model.compile(loss='mean_squared_error', optimizer='adam')\n",
    "\n"
   ]
  },
  {
   "cell_type": "code",
   "execution_count": 109,
   "metadata": {},
   "outputs": [
    {
     "data": {
      "text/plain": [
       "25828"
      ]
     },
     "execution_count": 109,
     "metadata": {},
     "output_type": "execute_result"
    }
   ],
   "source": [
    "test_X.shape[0]"
   ]
  },
  {
   "cell_type": "code",
   "execution_count": 111,
   "metadata": {},
   "outputs": [
    {
     "name": "stdout",
     "output_type": "stream",
     "text": [
      "Train on 8760 samples, validate on 25828 samples\n",
      "Epoch 1/100\n",
      " - 1s - loss: 0.0101 - val_loss: 0.0087\n",
      "Epoch 2/100\n",
      " - 1s - loss: 0.0101 - val_loss: 0.0087\n",
      "Epoch 3/100\n",
      " - 1s - loss: 0.0101 - val_loss: 0.0087\n",
      "Epoch 4/100\n",
      " - 1s - loss: 0.0101 - val_loss: 0.0087\n",
      "Epoch 5/100\n",
      " - 1s - loss: 0.0101 - val_loss: 0.0087\n",
      "Epoch 6/100\n",
      " - 1s - loss: 0.0101 - val_loss: 0.0087\n",
      "Epoch 7/100\n",
      " - 1s - loss: 0.0101 - val_loss: 0.0087\n",
      "Epoch 8/100\n",
      " - 1s - loss: 0.0101 - val_loss: 0.0087\n",
      "Epoch 9/100\n",
      " - 1s - loss: 0.0101 - val_loss: 0.0087\n",
      "Epoch 10/100\n",
      " - 1s - loss: 0.0101 - val_loss: 0.0086\n",
      "Epoch 11/100\n",
      " - 1s - loss: 0.0101 - val_loss: 0.0087\n",
      "Epoch 12/100\n",
      " - 1s - loss: 0.0101 - val_loss: 0.0087\n",
      "Epoch 13/100\n",
      " - 1s - loss: 0.0101 - val_loss: 0.0087\n",
      "Epoch 14/100\n",
      " - 1s - loss: 0.0101 - val_loss: 0.0087\n",
      "Epoch 15/100\n",
      " - 1s - loss: 0.0101 - val_loss: 0.0087\n",
      "Epoch 16/100\n",
      " - 1s - loss: 0.0101 - val_loss: 0.0087\n",
      "Epoch 17/100\n",
      " - 1s - loss: 0.0101 - val_loss: 0.0087\n",
      "Epoch 18/100\n",
      " - 1s - loss: 0.0101 - val_loss: 0.0087\n",
      "Epoch 19/100\n",
      " - 1s - loss: 0.0101 - val_loss: 0.0086\n",
      "Epoch 20/100\n",
      " - 1s - loss: 0.0101 - val_loss: 0.0086\n",
      "Epoch 21/100\n",
      " - 1s - loss: 0.0101 - val_loss: 0.0086\n",
      "Epoch 22/100\n",
      " - 1s - loss: 0.0101 - val_loss: 0.0086\n",
      "Epoch 23/100\n",
      " - 1s - loss: 0.0101 - val_loss: 0.0086\n",
      "Epoch 24/100\n",
      " - 1s - loss: 0.0101 - val_loss: 0.0086\n",
      "Epoch 25/100\n",
      " - 1s - loss: 0.0101 - val_loss: 0.0086\n",
      "Epoch 26/100\n",
      " - 1s - loss: 0.0101 - val_loss: 0.0086\n",
      "Epoch 27/100\n",
      " - 1s - loss: 0.0100 - val_loss: 0.0086\n",
      "Epoch 28/100\n",
      " - 1s - loss: 0.0101 - val_loss: 0.0086\n",
      "Epoch 29/100\n",
      " - 1s - loss: 0.0101 - val_loss: 0.0086\n",
      "Epoch 30/100\n",
      " - 1s - loss: 0.0101 - val_loss: 0.0086\n",
      "Epoch 31/100\n",
      " - 1s - loss: 0.0101 - val_loss: 0.0086\n",
      "Epoch 32/100\n",
      " - 1s - loss: 0.0101 - val_loss: 0.0086\n",
      "Epoch 33/100\n",
      " - 1s - loss: 0.0100 - val_loss: 0.0086\n",
      "Epoch 34/100\n",
      " - 1s - loss: 0.0101 - val_loss: 0.0086\n",
      "Epoch 35/100\n",
      " - 1s - loss: 0.0101 - val_loss: 0.0086\n",
      "Epoch 36/100\n",
      " - 1s - loss: 0.0101 - val_loss: 0.0086\n",
      "Epoch 37/100\n",
      " - 1s - loss: 0.0101 - val_loss: 0.0086\n",
      "Epoch 38/100\n",
      " - 1s - loss: 0.0100 - val_loss: 0.0086\n",
      "Epoch 39/100\n",
      " - 1s - loss: 0.0101 - val_loss: 0.0086\n",
      "Epoch 40/100\n",
      " - 1s - loss: 0.0101 - val_loss: 0.0086\n",
      "Epoch 41/100\n",
      " - 1s - loss: 0.0101 - val_loss: 0.0086\n",
      "Epoch 42/100\n",
      " - 1s - loss: 0.0101 - val_loss: 0.0086\n",
      "Epoch 43/100\n",
      " - 1s - loss: 0.0101 - val_loss: 0.0086\n",
      "Epoch 44/100\n",
      " - 1s - loss: 0.0100 - val_loss: 0.0085\n",
      "Epoch 45/100\n",
      " - 1s - loss: 0.0101 - val_loss: 0.0086\n",
      "Epoch 46/100\n",
      " - 1s - loss: 0.0101 - val_loss: 0.0086\n",
      "Epoch 47/100\n",
      " - 1s - loss: 0.0101 - val_loss: 0.0086\n",
      "Epoch 48/100\n",
      " - 1s - loss: 0.0101 - val_loss: 0.0086\n",
      "Epoch 49/100\n",
      " - 1s - loss: 0.0101 - val_loss: 0.0086\n",
      "Epoch 50/100\n",
      " - 1s - loss: 0.0101 - val_loss: 0.0085\n",
      "Epoch 51/100\n",
      " - 1s - loss: 0.0101 - val_loss: 0.0085\n",
      "Epoch 52/100\n",
      " - 1s - loss: 0.0101 - val_loss: 0.0085\n",
      "Epoch 53/100\n",
      " - 1s - loss: 0.0101 - val_loss: 0.0085\n",
      "Epoch 54/100\n",
      " - 1s - loss: 0.0101 - val_loss: 0.0085\n",
      "Epoch 55/100\n",
      " - 1s - loss: 0.0101 - val_loss: 0.0085\n",
      "Epoch 56/100\n",
      " - 1s - loss: 0.0101 - val_loss: 0.0085\n",
      "Epoch 57/100\n",
      " - 1s - loss: 0.0100 - val_loss: 0.0085\n",
      "Epoch 58/100\n",
      " - 1s - loss: 0.0100 - val_loss: 0.0085\n",
      "Epoch 59/100\n",
      " - 1s - loss: 0.0100 - val_loss: 0.0085\n",
      "Epoch 60/100\n",
      " - 1s - loss: 0.0101 - val_loss: 0.0085\n",
      "Epoch 61/100\n",
      " - 1s - loss: 0.0101 - val_loss: 0.0085\n",
      "Epoch 62/100\n",
      " - 1s - loss: 0.0100 - val_loss: 0.0085\n",
      "Epoch 63/100\n",
      " - 1s - loss: 0.0101 - val_loss: 0.0085\n",
      "Epoch 64/100\n",
      " - 1s - loss: 0.0101 - val_loss: 0.0085\n",
      "Epoch 65/100\n",
      " - 1s - loss: 0.0101 - val_loss: 0.0085\n",
      "Epoch 66/100\n",
      " - 1s - loss: 0.0100 - val_loss: 0.0085\n",
      "Epoch 67/100\n",
      " - 1s - loss: 0.0100 - val_loss: 0.0085\n",
      "Epoch 68/100\n",
      " - 1s - loss: 0.0101 - val_loss: 0.0085\n",
      "Epoch 69/100\n",
      " - 1s - loss: 0.0101 - val_loss: 0.0085\n",
      "Epoch 70/100\n",
      " - 1s - loss: 0.0101 - val_loss: 0.0085\n",
      "Epoch 71/100\n",
      " - 1s - loss: 0.0101 - val_loss: 0.0085\n",
      "Epoch 72/100\n",
      " - 1s - loss: 0.0100 - val_loss: 0.0085\n",
      "Epoch 73/100\n",
      " - 1s - loss: 0.0101 - val_loss: 0.0085\n",
      "Epoch 74/100\n",
      " - 1s - loss: 0.0100 - val_loss: 0.0085\n",
      "Epoch 75/100\n",
      " - 1s - loss: 0.0101 - val_loss: 0.0085\n",
      "Epoch 76/100\n",
      " - 1s - loss: 0.0100 - val_loss: 0.0085\n",
      "Epoch 77/100\n",
      " - 1s - loss: 0.0100 - val_loss: 0.0085\n",
      "Epoch 78/100\n",
      " - 1s - loss: 0.0101 - val_loss: 0.0085\n",
      "Epoch 79/100\n",
      " - 1s - loss: 0.0100 - val_loss: 0.0085\n",
      "Epoch 80/100\n",
      " - 1s - loss: 0.0101 - val_loss: 0.0084\n",
      "Epoch 81/100\n",
      " - 1s - loss: 0.0100 - val_loss: 0.0085\n",
      "Epoch 82/100\n",
      " - 1s - loss: 0.0100 - val_loss: 0.0084\n",
      "Epoch 83/100\n",
      " - 1s - loss: 0.0101 - val_loss: 0.0085\n",
      "Epoch 84/100\n",
      " - 1s - loss: 0.0100 - val_loss: 0.0085\n",
      "Epoch 85/100\n",
      " - 1s - loss: 0.0101 - val_loss: 0.0084\n",
      "Epoch 86/100\n",
      " - 1s - loss: 0.0100 - val_loss: 0.0085\n",
      "Epoch 87/100\n",
      " - 1s - loss: 0.0100 - val_loss: 0.0084\n",
      "Epoch 88/100\n",
      " - 1s - loss: 0.0100 - val_loss: 0.0084\n",
      "Epoch 89/100\n",
      " - 1s - loss: 0.0100 - val_loss: 0.0085\n",
      "Epoch 90/100\n",
      " - 1s - loss: 0.0100 - val_loss: 0.0084\n",
      "Epoch 91/100\n",
      " - 1s - loss: 0.0101 - val_loss: 0.0085\n",
      "Epoch 92/100\n",
      " - 1s - loss: 0.0100 - val_loss: 0.0084\n",
      "Epoch 93/100\n",
      " - 1s - loss: 0.0101 - val_loss: 0.0085\n",
      "Epoch 94/100\n",
      " - 1s - loss: 0.0100 - val_loss: 0.0084\n",
      "Epoch 95/100\n",
      " - 1s - loss: 0.0100 - val_loss: 0.0084\n",
      "Epoch 96/100\n",
      " - 1s - loss: 0.0100 - val_loss: 0.0084\n",
      "Epoch 97/100\n",
      " - 1s - loss: 0.0100 - val_loss: 0.0084\n",
      "Epoch 98/100\n",
      " - 1s - loss: 0.0100 - val_loss: 0.0084\n",
      "Epoch 99/100\n",
      " - 0s - loss: 0.0100 - val_loss: 0.0084\n",
      "Epoch 100/100\n",
      " - 1s - loss: 0.0100 - val_loss: 0.0084\n"
     ]
    },
    {
     "data": {
      "image/png": "[encoded data removed]",
      "text/plain": [
       "<Figure size 432x288 with 1 Axes>"
      ]
     },
     "metadata": {},
     "output_type": "display_data"
    },
    {
     "name": "stdout",
     "output_type": "stream",
     "text": [
      "training took 59.532201 seconds\n"
     ]
    }
   ],
   "source": [
    "from timeit import default_timer as timer\n",
    "# fit network\n",
    "start =timer()\n",
    "\n",
    "history = model.fit(train_X, train_y, epochs=100, batch_size=70, validation_data=(test_X, test_y), verbose=2, shuffle=False)\n",
    "\n",
    "# summarize history for loss\n",
    "plt.plot(history.history['loss'])\n",
    "plt.plot(history.history['val_loss'])\n",
    "plt.title('model loss')\n",
    "plt.ylabel('loss')\n",
    "plt.xlabel('epoch')\n",
    "plt.legend(['train', 'test'], loc='upper right')\n",
    "plt.show()\n",
    "\n",
    "training_time = timer()-start\n",
    "print(\"training took %f seconds\" % training_time)\n"
   ]
  },
  {
   "cell_type": "code",
   "execution_count": null,
   "metadata": {},
   "outputs": [],
   "source": [
    "# make a prediction\n",
    "yhat = model.predict(test_X)\n",
    "test_X = test_X.reshape((test_X.shape[0], 7))"
   ]
  },
  {
   "cell_type": "code",
   "execution_count": 66,
   "metadata": {},
   "outputs": [
    {
     "data": {
      "text/plain": [
       "((25828, 1), (25828, 7))"
      ]
     },
     "execution_count": 66,
     "metadata": {},
     "output_type": "execute_result"
    }
   ],
   "source": [
    "yhat.shape, test_X.shape"
   ]
  },
  {
   "cell_type": "code",
   "execution_count": 65,
   "metadata": {},
   "outputs": [
    {
     "data": {
      "text/plain": [
       "array([[0.08458889, 0.47831591, 0.35341942, 0.        , 0.00897344,\n",
       "        0.80897138],\n",
       "       [0.05484288, 0.45310572, 0.37625538, 0.        , 0.        ,\n",
       "        0.80433101],\n",
       "       [0.27804563, 0.47152585, 0.41056911, 0.        , 0.0086145 ,\n",
       "        0.80742459],\n",
       "       ...,\n",
       "       [0.06934998, 0.44873246, 0.21939264, 0.        , 0.        ,\n",
       "        0.        ],\n",
       "       [0.07752906, 0.41839455, 0.235055  , 0.        , 0.00143575,\n",
       "        0.        ],\n",
       "       [0.07899268, 0.52024552, 0.15817791, 0.        , 0.022972  ,\n",
       "        0.        ]])"
      ]
     },
     "execution_count": 65,
     "metadata": {},
     "output_type": "execute_result"
    }
   ],
   "source": [
    "test_X[:, -6:]"
   ]
  },
  {
   "cell_type": "code",
   "execution_count": 67,
   "metadata": {},
   "outputs": [
    {
     "name": "stdout",
     "output_type": "stream",
     "text": [
      "Test RMSE: 0.617\n"
     ]
    }
   ],
   "source": [
    "# invert scaling for forecast\n",
    "inv_yhat = np.concatenate((yhat, test_X[:, -6:]), axis=1)\n",
    "inv_yhat = scaler.inverse_transform(inv_yhat)\n",
    "inv_yhat = inv_yhat[:,0]\n",
    "# invert scaling for actual\n",
    "test_y = test_y.reshape((len(test_y), 1))\n",
    "inv_y = np.concatenate((test_y, test_X[:, -6:]), axis=1)\n",
    "inv_y = scaler.inverse_transform(inv_y)\n",
    "inv_y = inv_y[:,0]\n",
    "# calculate RMSE\n",
    "rmse = np.sqrt(mean_squared_error(inv_y, inv_yhat))\n",
    "print('Test RMSE: %.3f' % rmse)"
   ]
  },
  {
   "cell_type": "code",
   "execution_count": 85,
   "metadata": {},
   "outputs": [
    {
     "data": {
      "text/plain": [
       "(6.560533333333333, 1.0803389754527748)"
      ]
     },
     "execution_count": 85,
     "metadata": {},
     "output_type": "execute_result"
    }
   ],
   "source": [
    "inv_y.max(), inv_y.mean()"
   ]
  },
  {
   "cell_type": "code",
   "execution_count": 84,
   "metadata": {},
   "outputs": [
    {
     "data": {
      "image/png": "[encoded data removed]",
      "text/plain": [
       "<Figure size 1440x720 with 1 Axes>"
      ]
     },
     "metadata": {},
     "output_type": "display_data"
    }
   ],
   "source": [
    "import pylab \n",
    "plt.figure(figsize=(20,10))\n",
    "\n",
    "pylab.plot(inv_y, '-g', label='y_true')\n",
    "pylab.plot(inv_yhat, '-b', label='yhat')\n",
    "pylab.legend(loc='upper right')\n",
    "\n",
    "pylab.show()"
   ]
  },
  {
   "cell_type": "code",
   "execution_count": null,
   "metadata": {},
   "outputs": [],
   "source": []
  }
 ],
 "metadata": {
  "kernelspec": {
   "display_name": "Python 3",
   "language": "python",
   "name": "python3"
  },
  "language_info": {
   "codemirror_mode": {
    "name": "ipython",
    "version": 3
   },
   "file_extension": ".py",
   "mimetype": "text/x-python",
   "name": "python",
   "nbconvert_exporter": "python",
   "pygments_lexer": "ipython3",
   "version": "3.5.2"
  },
  "toc": {
   "base_numbering": 1,
   "nav_menu": {},
   "number_sections": true,
   "sideBar": true,
   "skip_h1_title": false,
   "title_cell": "Table of Contents",
   "title_sidebar": "Contents",
   "toc_cell": true,
   "toc_position": {
    "height": "calc(100% - 180px)",
    "left": "10px",
    "top": "150px",
    "width": "165px"
   },
   "toc_section_display": true,
   "toc_window_display": true
  }
 },
 "nbformat": 4,
 "nbformat_minor": 2
}
